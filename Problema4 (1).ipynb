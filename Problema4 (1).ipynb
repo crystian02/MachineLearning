{
  "nbformat": 4,
  "nbformat_minor": 0,
  "metadata": {
    "colab": {
      "provenance": []
    },
    "kernelspec": {
      "name": "python3",
      "display_name": "Python 3"
    },
    "language_info": {
      "name": "python"
    }
  },
  "cells": [
    {
      "cell_type": "code",
      "source": [
        "import pandas as pd\n",
        "from sklearn.model_selection import train_test_split\n",
        "from sklearn.preprocessing import StandardScaler\n",
        "from sklearn.svm import SVC\n",
        "from sklearn.metrics import accuracy_score, precision_score, recall_score, f1_score\n"
      ],
      "metadata": {
        "id": "3NO2cr2CcZ4H"
      },
      "execution_count": 2,
      "outputs": []
    },
    {
      "cell_type": "code",
      "source": [
        "# Cargar el dataset de tarjetas de crédito\n",
        "data = pd.read_csv('/content/creditcard.csv')\n",
        "\n",
        "# Explorar los primeros datos\n",
        "print(data.head())\n"
      ],
      "metadata": {
        "id": "x69gG5fBcauG",
        "colab": {
          "base_uri": "https://localhost:8080/"
        },
        "outputId": "1692e61c-94e4-4de7-e66d-3d8829658474"
      },
      "execution_count": 3,
      "outputs": [
        {
          "output_type": "stream",
          "name": "stdout",
          "text": [
            "   Time        V1        V2        V3        V4        V5        V6        V7  \\\n",
            "0   0.0 -1.359807 -0.072781  2.536347  1.378155 -0.338321  0.462388  0.239599   \n",
            "1   0.0  1.191857  0.266151  0.166480  0.448154  0.060018 -0.082361 -0.078803   \n",
            "2   1.0 -1.358354 -1.340163  1.773209  0.379780 -0.503198  1.800499  0.791461   \n",
            "3   1.0 -0.966272 -0.185226  1.792993 -0.863291 -0.010309  1.247203  0.237609   \n",
            "4   2.0 -1.158233  0.877737  1.548718  0.403034 -0.407193  0.095921  0.592941   \n",
            "\n",
            "         V8        V9  ...       V21       V22       V23       V24       V25  \\\n",
            "0  0.098698  0.363787  ... -0.018307  0.277838 -0.110474  0.066928  0.128539   \n",
            "1  0.085102 -0.255425  ... -0.225775 -0.638672  0.101288 -0.339846  0.167170   \n",
            "2  0.247676 -1.514654  ...  0.247998  0.771679  0.909412 -0.689281 -0.327642   \n",
            "3  0.377436 -1.387024  ... -0.108300  0.005274 -0.190321 -1.175575  0.647376   \n",
            "4 -0.270533  0.817739  ... -0.009431  0.798278 -0.137458  0.141267 -0.206010   \n",
            "\n",
            "        V26       V27       V28  Amount  Class  \n",
            "0 -0.189115  0.133558 -0.021053  149.62      0  \n",
            "1  0.125895 -0.008983  0.014724    2.69      0  \n",
            "2 -0.139097 -0.055353 -0.059752  378.66      0  \n",
            "3 -0.221929  0.062723  0.061458  123.50      0  \n",
            "4  0.502292  0.219422  0.215153   69.99      0  \n",
            "\n",
            "[5 rows x 31 columns]\n"
          ]
        }
      ]
    },
    {
      "cell_type": "code",
      "source": [
        "# Tomar una muestra del dataset (10,000 filas)\n",
        "data_sampled = data.sample(n=10000, random_state=42)\n",
        "\n",
        "# Revisar el balance de clases\n",
        "print(data_sampled['Class'].value_counts())\n"
      ],
      "metadata": {
        "id": "M8z0XOnbb7ZG",
        "colab": {
          "base_uri": "https://localhost:8080/"
        },
        "outputId": "c3ea3fd3-3c9f-43a7-96d0-8071a7c801b1"
      },
      "execution_count": 4,
      "outputs": [
        {
          "output_type": "stream",
          "name": "stdout",
          "text": [
            "Class\n",
            "0    9984\n",
            "1      16\n",
            "Name: count, dtype: int64\n"
          ]
        }
      ]
    },
    {
      "cell_type": "code",
      "source": [
        "# Separar transacciones fraudulentas y no fraudulentas\n",
        "fraud = data_sampled[data_sampled['Class'] == 1]\n",
        "non_fraud = data_sampled[data_sampled['Class'] == 0].sample(n=len(fraud), random_state=42)\n",
        "\n",
        "# Combinar de nuevo las transacciones en un dataset balanceado\n",
        "balanced_data = pd.concat([fraud, non_fraud])\n",
        "\n",
        "# Revisar el nuevo balance de clases\n",
        "print(balanced_data['Class'].value_counts())\n"
      ],
      "metadata": {
        "id": "Y0ZBFinVcAl4",
        "colab": {
          "base_uri": "https://localhost:8080/"
        },
        "outputId": "3105eb50-ebef-4f1c-c53e-6060fae206b6"
      },
      "execution_count": 5,
      "outputs": [
        {
          "output_type": "stream",
          "name": "stdout",
          "text": [
            "Class\n",
            "1    16\n",
            "0    16\n",
            "Name: count, dtype: int64\n"
          ]
        }
      ]
    },
    {
      "cell_type": "code",
      "source": [
        "# Separar las características y la etiqueta\n",
        "X = balanced_data.drop('Class', axis=1)  # Eliminar la columna 'Class'\n",
        "y = balanced_data['Class']  # La columna 'Class' es nuestra etiqueta\n",
        "\n",
        "# Dividir en conjunto de entrenamiento (70%) y prueba (30%)\n",
        "X_train, X_test, y_train, y_test = train_test_split(X, y, test_size=0.3, random_state=42)\n"
      ],
      "metadata": {
        "id": "qsqm5fzJcCOY"
      },
      "execution_count": 6,
      "outputs": []
    },
    {
      "cell_type": "code",
      "source": [
        "# Escalar los datos\n",
        "scaler = StandardScaler()\n",
        "X_train_scaled = scaler.fit_transform(X_train)\n",
        "X_test_scaled = scaler.transform(X_test)\n"
      ],
      "metadata": {
        "id": "WJqt52UvcFOd"
      },
      "execution_count": 7,
      "outputs": []
    },
    {
      "cell_type": "code",
      "source": [
        "# Probar con diferentes kernels\n",
        "kernels = ['linear', 'rbf', 'poly']\n",
        "for kernel in kernels:\n",
        "    print(f\"Entrenando SVM con kernel: {kernel}\")\n",
        "\n",
        "    # Ajustar hiperparámetros para rbf\n",
        "    if kernel == 'rbf':\n",
        "        model = SVC(kernel=kernel, random_state=42, gamma=0.1, C=1)\n",
        "    else:\n",
        "        model = SVC(kernel=kernel, random_state=42)\n",
        "\n",
        "    # Entrenar el modelo\n",
        "    model.fit(X_train_scaled, y_train)\n",
        "\n",
        "    # Hacer predicciones\n",
        "    y_pred = model.predict(X_test_scaled)\n",
        "\n",
        "    # Calcular las métricas (con zero_division para manejar clases no predichas)\n",
        "    accuracy = accuracy_score(y_test, y_pred)\n",
        "    precision = precision_score(y_test, y_pred, zero_division=1)\n",
        "    recall = recall_score(y_test, y_pred, zero_division=1)\n",
        "    f1 = f1_score(y_test, y_pred, zero_division=1)\n",
        "\n",
        "    # Mostrar los resultados\n",
        "    print(f\"Kernel: {kernel}\")\n",
        "    print(f\"Exactitud: {accuracy}\")\n",
        "    print(f\"Precisión: {precision}\")\n",
        "    print(f\"Recall: {recall}\")\n",
        "    print(f\"F1-Score: {f1}\\n\")\n"
      ],
      "metadata": {
        "id": "FzjOL4H8cNWY",
        "colab": {
          "base_uri": "https://localhost:8080/"
        },
        "outputId": "24e79e3d-06e2-41a5-ad78-6a5c39c4277b"
      },
      "execution_count": 8,
      "outputs": [
        {
          "output_type": "stream",
          "name": "stdout",
          "text": [
            "Entrenando SVM con kernel: linear\n",
            "Kernel: linear\n",
            "Exactitud: 0.7\n",
            "Precisión: 0.75\n",
            "Recall: 0.6\n",
            "F1-Score: 0.6666666666666665\n",
            "\n",
            "Entrenando SVM con kernel: rbf\n",
            "Kernel: rbf\n",
            "Exactitud: 0.7\n",
            "Precisión: 0.6666666666666666\n",
            "Recall: 0.8\n",
            "F1-Score: 0.7272727272727272\n",
            "\n",
            "Entrenando SVM con kernel: poly\n",
            "Kernel: poly\n",
            "Exactitud: 0.6\n",
            "Precisión: 1.0\n",
            "Recall: 0.2\n",
            "F1-Score: 0.33333333333333337\n",
            "\n"
          ]
        }
      ]
    }
  ]
}