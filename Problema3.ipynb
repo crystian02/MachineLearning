{
  "nbformat": 4,
  "nbformat_minor": 0,
  "metadata": {
    "colab": {
      "provenance": []
    },
    "kernelspec": {
      "name": "python3",
      "display_name": "Python 3"
    },
    "language_info": {
      "name": "python"
    }
  },
  "cells": [
    {
      "cell_type": "code",
      "execution_count": 1,
      "metadata": {
        "id": "vZgteT2-GNjL"
      },
      "outputs": [],
      "source": [
        "import pandas as pd\n",
        "from sklearn.metrics.pairwise import cosine_similarity\n",
        "import numpy as np\n"
      ]
    },
    {
      "cell_type": "code",
      "source": [
        "# Cargar las películas y las calificaciones\n",
        "movies = pd.read_csv('/content/movie.csv')\n",
        "ratings = pd.read_csv('/content/rating.csv')\n",
        "\n",
        "# Explorar las primeras filas de cada dataset\n",
        "print(movies.head())\n",
        "print(ratings.head())\n"
      ],
      "metadata": {
        "colab": {
          "base_uri": "https://localhost:8080/"
        },
        "id": "wf8mWyJ7ICSc",
        "outputId": "8583438b-f586-4ddd-9391-d614dd998722"
      },
      "execution_count": 2,
      "outputs": [
        {
          "output_type": "stream",
          "name": "stdout",
          "text": [
            "   movieId                               title  \\\n",
            "0        1                    Toy Story (1995)   \n",
            "1        2                      Jumanji (1995)   \n",
            "2        3             Grumpier Old Men (1995)   \n",
            "3        4            Waiting to Exhale (1995)   \n",
            "4        5  Father of the Bride Part II (1995)   \n",
            "\n",
            "                                        genres  \n",
            "0  Adventure|Animation|Children|Comedy|Fantasy  \n",
            "1                   Adventure|Children|Fantasy  \n",
            "2                               Comedy|Romance  \n",
            "3                         Comedy|Drama|Romance  \n",
            "4                                       Comedy  \n",
            "   userId  movieId  rating            timestamp\n",
            "0       1        2     3.5  2005-04-02 23:53:47\n",
            "1       1       29     3.5  2005-04-02 23:31:16\n",
            "2       1       32     3.5  2005-04-02 23:33:39\n",
            "3       1       47     3.5  2005-04-02 23:32:07\n",
            "4       1       50     3.5  2005-04-02 23:29:40\n"
          ]
        }
      ]
    },
    {
      "cell_type": "code",
      "source": [
        "# Extraer las películas que son de terror\n",
        "horror_movies = movies[movies['genres'].str.contains('Horror')]\n",
        "\n",
        "# Revisar las películas de terror\n",
        "print(horror_movies.head())\n"
      ],
      "metadata": {
        "colab": {
          "base_uri": "https://localhost:8080/"
        },
        "id": "oJYkJXpyIHZU",
        "outputId": "f9966624-0a42-45b0-e487-abbde255f235"
      },
      "execution_count": 3,
      "outputs": [
        {
          "output_type": "stream",
          "name": "stdout",
          "text": [
            "    movieId                               title  \\\n",
            "11       12  Dracula: Dead and Loving It (1995)   \n",
            "21       22                      Copycat (1995)   \n",
            "69       70          From Dusk Till Dawn (1996)   \n",
            "90       92                  Mary Reilly (1996)   \n",
            "91       93          Vampire in Brooklyn (1995)   \n",
            "\n",
            "                                 genres  \n",
            "11                        Comedy|Horror  \n",
            "21  Crime|Drama|Horror|Mystery|Thriller  \n",
            "69        Action|Comedy|Horror|Thriller  \n",
            "90                Drama|Horror|Thriller  \n",
            "91                Comedy|Horror|Romance  \n"
          ]
        }
      ]
    },
    {
      "cell_type": "code",
      "source": [
        "#¿Qué película recomendarían si se quiere ver una película de terror?\n",
        "# Recomendar las películas de terror más populares basadas en el número de calificaciones\n",
        "horror_ratings = ratings[ratings['movieId'].isin(horror_movies['movieId'])]\n",
        "horror_ratings_grouped = horror_ratings.groupby('movieId').size().reset_index(name='count')\n",
        "top_horror_movies = horror_ratings_grouped.sort_values(by='count', ascending=False).head(10)\n",
        "\n",
        "# Unir con la información de películas\n",
        "top_horror_movies = pd.merge(top_horror_movies, movies, on='movieId')\n",
        "print(top_horror_movies[['title', 'genres', 'count']])\n"
      ],
      "metadata": {
        "colab": {
          "base_uri": "https://localhost:8080/"
        },
        "id": "2-VIG9WlIM7G",
        "outputId": "6a4a2912-9514-4b48-c451-db80cc35ffc0"
      },
      "execution_count": 4,
      "outputs": [
        {
          "output_type": "stream",
          "name": "stdout",
          "text": [
            "                                               title  \\\n",
            "0                   Silence of the Lambs, The (1991)   \n",
            "1                            Sixth Sense, The (1999)   \n",
            "2                                       Alien (1979)   \n",
            "3                                      Aliens (1986)   \n",
            "4  Interview with the Vampire: The Vampire Chroni...   \n",
            "5                                Shining, The (1980)   \n",
            "6                                        Jaws (1975)   \n",
            "7                    Blair Witch Project, The (1999)   \n",
            "8                                      Psycho (1960)   \n",
            "9                                      Scream (1996)   \n",
            "\n",
            "                           genres  count  \n",
            "0           Crime|Horror|Thriller   1075  \n",
            "1            Drama|Horror|Mystery    665  \n",
            "2                   Horror|Sci-Fi    526  \n",
            "3  Action|Adventure|Horror|Sci-Fi    503  \n",
            "4                    Drama|Horror    497  \n",
            "5                          Horror    410  \n",
            "6                   Action|Horror    390  \n",
            "7           Drama|Horror|Thriller    352  \n",
            "8                    Crime|Horror    328  \n",
            "9  Comedy|Horror|Mystery|Thriller    309  \n"
          ]
        }
      ]
    },
    {
      "cell_type": "code",
      "source": [
        "#¿Qué película recomendarían si mi última película fue Toy Story?\n",
        "# Crear una tabla de usuario-película\n",
        "user_movie_matrix = ratings.pivot_table(index='userId', columns='movieId', values='rating')\n",
        "\n",
        "# Buscar el ID de la película 'Toy Story'\n",
        "toy_story_id = movies[movies['title'].str.contains('Toy Story')]['movieId'].values[0]\n",
        "\n",
        "# Calcular la similitud entre películas utilizando la similitud del coseno\n",
        "movie_similarity = cosine_similarity(user_movie_matrix.fillna(0).T)\n",
        "\n",
        "# Crear un DataFrame para ver las películas más similares\n",
        "similarity_df = pd.DataFrame(movie_similarity, index=user_movie_matrix.columns, columns=user_movie_matrix.columns)\n",
        "\n",
        "# Obtener las películas más similares a Toy Story\n",
        "similar_movies = similarity_df[toy_story_id].sort_values(ascending=False).head(10)\n",
        "\n",
        "# Unir con la información de películas para ver los títulos\n",
        "similar_movies = pd.merge(similar_movies.reset_index(), movies, left_on='movieId', right_on='movieId')\n",
        "print(similar_movies[['title', 'genres']])\n"
      ],
      "metadata": {
        "colab": {
          "base_uri": "https://localhost:8080/"
        },
        "id": "IsiYzLh0IZHT",
        "outputId": "8a89eeff-216e-4a59-9d57-4d2d60f150b4"
      },
      "execution_count": 5,
      "outputs": [
        {
          "output_type": "stream",
          "name": "stdout",
          "text": [
            "                                               title  \\\n",
            "0                                   Toy Story (1995)   \n",
            "1          Star Wars: Episode IV - A New Hope (1977)   \n",
            "2               Independence Day (a.k.a. ID4) (1996)   \n",
            "3  Star Wars: Episode VI - Return of the Jedi (1983)   \n",
            "4                          Back to the Future (1985)   \n",
            "5                                 Toy Story 2 (1999)   \n",
            "6                               Jurassic Park (1993)   \n",
            "7                                Forrest Gump (1994)   \n",
            "8                  Terminator 2: Judgment Day (1991)   \n",
            "9  Star Wars: Episode V - The Empire Strikes Back...   \n",
            "\n",
            "                                        genres  \n",
            "0  Adventure|Animation|Children|Comedy|Fantasy  \n",
            "1                      Action|Adventure|Sci-Fi  \n",
            "2             Action|Adventure|Sci-Fi|Thriller  \n",
            "3                      Action|Adventure|Sci-Fi  \n",
            "4                      Adventure|Comedy|Sci-Fi  \n",
            "5  Adventure|Animation|Children|Comedy|Fantasy  \n",
            "6             Action|Adventure|Sci-Fi|Thriller  \n",
            "7                     Comedy|Drama|Romance|War  \n",
            "8                                Action|Sci-Fi  \n",
            "9                      Action|Adventure|Sci-Fi  \n"
          ]
        }
      ]
    }
  ]
}